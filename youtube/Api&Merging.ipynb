{
 "cells": [
  {
   "cell_type": "code",
   "execution_count": null,
   "metadata": {},
   "outputs": [],
   "source": [
    "import pandas as pd\n",
    "import requests, numpy, os, glob"
   ]
  },
  {
   "cell_type": "code",
   "execution_count": 2,
   "metadata": {},
   "outputs": [
    {
     "data": {
      "text/plain": [
       "['name', 'interval', 'unit', 'data']"
      ]
     },
     "execution_count": 2,
     "metadata": {},
     "output_type": "execute_result"
    }
   ],
   "source": [
    "api_key = 'STGTR7Y3P0EUXO6K'\n",
    "response = requests.get('https://www.alphavantage.co/query?function=INFLATION_EXPECTATION&apikey=STGTR7Y3P0EUXO6K').json()\n",
    "lsresponse = list(response)\n",
    "lsresponse"
   ]
  },
  {
   "cell_type": "code",
   "execution_count": 3,
   "metadata": {},
   "outputs": [],
   "source": [
    "empt = []   # example of dynamic memory allocation not static mem alloc.\n",
    "for x in response['data']:\n",
    "    empt.append(x)\n",
    "df = pd.DataFrame(empt)\n",
    "df = df.to_csv('inflation expectation data.csv')\n"
   ]
  },
  {
   "cell_type": "code",
   "execution_count": 4,
   "metadata": {},
   "outputs": [
    {
     "data": {
      "text/plain": [
       "['inflation rate data.csv', 'merged.csv', 'Unemployment Rate US.csv']"
      ]
     },
     "execution_count": 4,
     "metadata": {},
     "output_type": "execute_result"
    }
   ],
   "source": [
    "os.chdir(r'C:\\Users\\kofij\\Home\\Desktop\\project files')\n",
    "extension = 'csv'\n",
    "files = [x for x in glob.glob('*.{}'.format(extension))]\n",
    "files\n"
   ]
  },
  {
   "cell_type": "code",
   "execution_count": 5,
   "metadata": {},
   "outputs": [
    {
     "data": {
      "text/html": [
       "<div>\n",
       "<style scoped>\n",
       "    .dataframe tbody tr th:only-of-type {\n",
       "        vertical-align: middle;\n",
       "    }\n",
       "\n",
       "    .dataframe tbody tr th {\n",
       "        vertical-align: top;\n",
       "    }\n",
       "\n",
       "    .dataframe thead th {\n",
       "        text-align: right;\n",
       "    }\n",
       "</style>\n",
       "<table border=\"1\" class=\"dataframe\">\n",
       "  <thead>\n",
       "    <tr style=\"text-align: right;\">\n",
       "      <th></th>\n",
       "      <th>Unnamed: 0</th>\n",
       "      <th>date</th>\n",
       "      <th>value</th>\n",
       "      <th>COUNTRY (in alpha 2)</th>\n",
       "      <th>DATE</th>\n",
       "      <th>INFLATION (value)</th>\n",
       "      <th>UNEMPLOYMENT RATE (seasonally adjusted)</th>\n",
       "      <th>Unemployment Rate (seasonally adjusted)</th>\n",
       "    </tr>\n",
       "  </thead>\n",
       "  <tbody>\n",
       "    <tr>\n",
       "      <th>0</th>\n",
       "      <td>0.0</td>\n",
       "      <td>2020-01-01</td>\n",
       "      <td>1.233584</td>\n",
       "      <td>NaN</td>\n",
       "      <td>NaN</td>\n",
       "      <td>NaN</td>\n",
       "      <td>NaN</td>\n",
       "      <td>NaN</td>\n",
       "    </tr>\n",
       "    <tr>\n",
       "      <th>1</th>\n",
       "      <td>1.0</td>\n",
       "      <td>2019-01-01</td>\n",
       "      <td>1.812210</td>\n",
       "      <td>NaN</td>\n",
       "      <td>NaN</td>\n",
       "      <td>NaN</td>\n",
       "      <td>NaN</td>\n",
       "      <td>NaN</td>\n",
       "    </tr>\n",
       "    <tr>\n",
       "      <th>2</th>\n",
       "      <td>2.0</td>\n",
       "      <td>2018-01-01</td>\n",
       "      <td>2.442583</td>\n",
       "      <td>NaN</td>\n",
       "      <td>NaN</td>\n",
       "      <td>NaN</td>\n",
       "      <td>NaN</td>\n",
       "      <td>NaN</td>\n",
       "    </tr>\n",
       "    <tr>\n",
       "      <th>3</th>\n",
       "      <td>3.0</td>\n",
       "      <td>2017-01-01</td>\n",
       "      <td>2.130110</td>\n",
       "      <td>NaN</td>\n",
       "      <td>NaN</td>\n",
       "      <td>NaN</td>\n",
       "      <td>NaN</td>\n",
       "      <td>NaN</td>\n",
       "    </tr>\n",
       "    <tr>\n",
       "      <th>4</th>\n",
       "      <td>4.0</td>\n",
       "      <td>2016-01-01</td>\n",
       "      <td>1.261583</td>\n",
       "      <td>NaN</td>\n",
       "      <td>NaN</td>\n",
       "      <td>NaN</td>\n",
       "      <td>NaN</td>\n",
       "      <td>NaN</td>\n",
       "    </tr>\n",
       "    <tr>\n",
       "      <th>...</th>\n",
       "      <td>...</td>\n",
       "      <td>...</td>\n",
       "      <td>...</td>\n",
       "      <td>...</td>\n",
       "      <td>...</td>\n",
       "      <td>...</td>\n",
       "      <td>...</td>\n",
       "      <td>...</td>\n",
       "    </tr>\n",
       "    <tr>\n",
       "      <th>99</th>\n",
       "      <td>NaN</td>\n",
       "      <td>NaN</td>\n",
       "      <td>NaN</td>\n",
       "      <td>NaN</td>\n",
       "      <td>1/1/2017</td>\n",
       "      <td>NaN</td>\n",
       "      <td>NaN</td>\n",
       "      <td>4.358333</td>\n",
       "    </tr>\n",
       "    <tr>\n",
       "      <th>100</th>\n",
       "      <td>NaN</td>\n",
       "      <td>NaN</td>\n",
       "      <td>NaN</td>\n",
       "      <td>NaN</td>\n",
       "      <td>1/1/2018</td>\n",
       "      <td>NaN</td>\n",
       "      <td>NaN</td>\n",
       "      <td>3.891667</td>\n",
       "    </tr>\n",
       "    <tr>\n",
       "      <th>101</th>\n",
       "      <td>NaN</td>\n",
       "      <td>NaN</td>\n",
       "      <td>NaN</td>\n",
       "      <td>NaN</td>\n",
       "      <td>1/1/2019</td>\n",
       "      <td>NaN</td>\n",
       "      <td>NaN</td>\n",
       "      <td>3.675000</td>\n",
       "    </tr>\n",
       "    <tr>\n",
       "      <th>102</th>\n",
       "      <td>NaN</td>\n",
       "      <td>NaN</td>\n",
       "      <td>NaN</td>\n",
       "      <td>NaN</td>\n",
       "      <td>1/1/2020</td>\n",
       "      <td>NaN</td>\n",
       "      <td>NaN</td>\n",
       "      <td>8.091667</td>\n",
       "    </tr>\n",
       "    <tr>\n",
       "      <th>103</th>\n",
       "      <td>NaN</td>\n",
       "      <td>NaN</td>\n",
       "      <td>NaN</td>\n",
       "      <td>NaN</td>\n",
       "      <td>1/1/2021</td>\n",
       "      <td>NaN</td>\n",
       "      <td>NaN</td>\n",
       "      <td>5.358333</td>\n",
       "    </tr>\n",
       "  </tbody>\n",
       "</table>\n",
       "<p>104 rows × 8 columns</p>\n",
       "</div>"
      ],
      "text/plain": [
       "     Unnamed: 0        date     value COUNTRY (in alpha 2)      DATE  \\\n",
       "0           0.0  2020-01-01  1.233584                  NaN       NaN   \n",
       "1           1.0  2019-01-01  1.812210                  NaN       NaN   \n",
       "2           2.0  2018-01-01  2.442583                  NaN       NaN   \n",
       "3           3.0  2017-01-01  2.130110                  NaN       NaN   \n",
       "4           4.0  2016-01-01  1.261583                  NaN       NaN   \n",
       "..          ...         ...       ...                  ...       ...   \n",
       "99          NaN         NaN       NaN                  NaN  1/1/2017   \n",
       "100         NaN         NaN       NaN                  NaN  1/1/2018   \n",
       "101         NaN         NaN       NaN                  NaN  1/1/2019   \n",
       "102         NaN         NaN       NaN                  NaN  1/1/2020   \n",
       "103         NaN         NaN       NaN                  NaN  1/1/2021   \n",
       "\n",
       "     INFLATION (value)  UNEMPLOYMENT RATE (seasonally adjusted)  \\\n",
       "0                  NaN                                      NaN   \n",
       "1                  NaN                                      NaN   \n",
       "2                  NaN                                      NaN   \n",
       "3                  NaN                                      NaN   \n",
       "4                  NaN                                      NaN   \n",
       "..                 ...                                      ...   \n",
       "99                 NaN                                      NaN   \n",
       "100                NaN                                      NaN   \n",
       "101                NaN                                      NaN   \n",
       "102                NaN                                      NaN   \n",
       "103                NaN                                      NaN   \n",
       "\n",
       "     Unemployment Rate (seasonally adjusted)  \n",
       "0                                        NaN  \n",
       "1                                        NaN  \n",
       "2                                        NaN  \n",
       "3                                        NaN  \n",
       "4                                        NaN  \n",
       "..                                       ...  \n",
       "99                                  4.358333  \n",
       "100                                 3.891667  \n",
       "101                                 3.675000  \n",
       "102                                 8.091667  \n",
       "103                                 5.358333  \n",
       "\n",
       "[104 rows x 8 columns]"
      ]
     },
     "execution_count": 5,
     "metadata": {},
     "output_type": "execute_result"
    }
   ],
   "source": [
    "super_merge_csv = pd.concat((pd.read_csv(x) for x in files), ignore_index=True)\n",
    "super_merge_csv"
   ]
  },
  {
   "cell_type": "code",
   "execution_count": 12,
   "metadata": {},
   "outputs": [],
   "source": [
    "super_merge_csv.to_csv('super_merged.csv')"
   ]
  },
  {
   "cell_type": "code",
   "execution_count": null,
   "metadata": {},
   "outputs": [],
   "source": []
  }
 ],
 "metadata": {
  "interpreter": {
   "hash": "66a98aacb8b3560da62bcb2134096cabdd5fc278c70cdb9f3bab8262a772f0fa"
  },
  "kernelspec": {
   "display_name": "Python 3.10.1 64-bit ('venvProject': venv)",
   "language": "python",
   "name": "python3"
  },
  "language_info": {
   "codemirror_mode": {
    "name": "ipython",
    "version": 3
   },
   "file_extension": ".py",
   "mimetype": "text/x-python",
   "name": "python",
   "nbconvert_exporter": "python",
   "pygments_lexer": "ipython3",
   "version": "3.10.4"
  },
  "orig_nbformat": 4
 },
 "nbformat": 4,
 "nbformat_minor": 2
}
