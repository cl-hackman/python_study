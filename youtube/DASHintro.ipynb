{
 "cells": [
  {
   "cell_type": "markdown",
   "metadata": {},
   "source": [
    "DASH:\n",
    "to make interactive web based visuals for data using only python. No need for html\n",
    "\n",
    "DASH COMPONENTS:\n",
    "include; slider, range slider, tab, input, graph, dropdown, date picker, checklist, textarea, etc\n",
    "\n",
    "DASH PLOTLY:\n",
    "include; maps, charts, 3D charts, statistical charts, visualizing biological data, etc\n",
    "\n",
    "DASH CALLBACK:\n",
    "they connect the components to plotly visuals, e.g. a slider connected to graph dates\n",
    "\n",
    "the components and plotly are in the app layout whereas the callback is outside the app layout"
   ]
  },
  {
   "cell_type": "code",
   "execution_count": null,
   "metadata": {},
   "outputs": [],
   "source": [
    "import pandas as pd\n",
    "import plotly.express as px\n",
    "import plotly.graph_objects as go\n",
    "import dash\n",
    "import dash_core_components as dcc\n",
    "import dash_html_components as html\n",
    "from dash.dependencies import Input, Output"
   ]
  },
  {
   "cell_type": "code",
   "execution_count": null,
   "metadata": {},
   "outputs": [],
   "source": []
  }
 ],
 "metadata": {
  "interpreter": {
   "hash": "021795d602bbe62c54e34d4c90dc25a77457e36881b2955a9f4120e47dabf08f"
  },
  "kernelspec": {
   "display_name": "Python 3.10.1 64-bit ('venvVisual': venv)",
   "language": "python",
   "name": "python3"
  },
  "language_info": {
   "codemirror_mode": {
    "name": "ipython",
    "version": 3
   },
   "file_extension": ".py",
   "mimetype": "text/x-python",
   "name": "python",
   "nbconvert_exporter": "python",
   "pygments_lexer": "ipython3",
   "version": "3.10.2"
  },
  "orig_nbformat": 4
 },
 "nbformat": 4,
 "nbformat_minor": 2
}
