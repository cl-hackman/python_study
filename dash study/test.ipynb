{
 "cells": [
  {
   "cell_type": "code",
   "execution_count": 6,
   "metadata": {},
   "outputs": [],
   "source": [
    "import json\n",
    "import dash \n",
    "from dash import dcc\n",
    "from dash import html\n",
    "from dash.dependencies import Input, Output\n",
    "import plotly.express as px\n",
    "import pandas as pd"
   ]
  },
  {
   "cell_type": "code",
   "execution_count": 7,
   "metadata": {},
   "outputs": [],
   "source": [
    "app=dash.Dash(__name__)\n",
    "\n",
    "def get_medians(zipcode, zipcode_df):  # function to calculate median from dataframe\n",
    "    try:\n",
    "        median = int(zipcode_df[zipcode]['Number of Returns'].iloc[0]/2)\n",
    "        for i in range(1, 7):\n",
    "            if zipcode_df[zipcode]['Number of Returns'].iloc[i] < median:\n",
    "                median -= zipcode_df[zipcode]['Number of Returns'].iloc[i]\n",
    "            else:\n",
    "                return zipcode_df[zipcode]['AGI'].iloc[i]\n",
    "    except:\n",
    "        return \"No Information\""
   ]
  },
  {
   "cell_type": "code",
   "execution_count": 8,
   "metadata": {},
   "outputs": [],
   "source": [
    "# neighborhood name to zipcode data\n",
    "neighborhood_raw = pd.read_excel(\"C:/Users/kofij/OneDrive/Desktop/nyc-income-main/data/neighborhoods.xlsx\")\n",
    "\n",
    "zip_codes_neighborhoods = {}\n",
    "for idx, zipcodes in enumerate(neighborhood_raw[\"Zip Codes\"]):\n",
    "    if type(zipcodes) == str:\n",
    "        for zipcode in zipcodes.split(\",\"):\n",
    "            zip_codes_neighborhoods[zipcode.strip(\n",
    "            )] = neighborhood_raw[\"Neighborhood\"][idx]\n",
    "    else:\n",
    "        zip_codes_neighborhoods[str(\n",
    "            zipcodes)] = neighborhood_raw[\"Neighborhood\"][idx]"
   ]
  },
  {
   "cell_type": "code",
   "execution_count": 10,
   "metadata": {},
   "outputs": [],
   "source": [
    "# IRS Data\n",
    "def get_income_data(year):  # function to get income data from csv\n",
    "    year = str(year)\n",
    "    df = pd.read_csv(f\"C:/Users/kofij/OneDrive/Desktop/nyc-income-main/data/income_data/formatted_data/{year}_irs_data\")\n",
    "    return df\n",
    "\n",
    "\n",
    "zip_dfs = {}\n",
    "all_income_data = {}\n",
    "\n",
    "for i in range(2011, 2019):\n",
    "    all_income_data[str(i)] = get_income_data(i)\n",
    "    zip_dfs[str(i)] = {}\n"
   ]
  },
  {
   "cell_type": "code",
   "execution_count": 15,
   "metadata": {},
   "outputs": [
    {
     "ename": "AttributeError",
     "evalue": "'dict' object has no attribute 'head'",
     "output_type": "error",
     "traceback": [
      "\u001b[1;31m---------------------------------------------------------------------------\u001b[0m",
      "\u001b[1;31mAttributeError\u001b[0m                            Traceback (most recent call last)",
      "\u001b[1;32mc:\\Users\\kofij\\OneDrive\\Desktop\\nyc-income-main\\test.ipynb Cell 5'\u001b[0m in \u001b[0;36m<cell line: 20>\u001b[1;34m()\u001b[0m\n\u001b[0;32m     <a href='vscode-notebook-cell:/c%3A/Users/kofij/OneDrive/Desktop/nyc-income-main/test.ipynb#ch0000004?line=14'>15</a>\u001b[0m             data[\u001b[39m'\u001b[39m\u001b[39mfeatures\u001b[39m\u001b[39m'\u001b[39m][i][\u001b[39m'\u001b[39m\u001b[39mproperties\u001b[39m\u001b[39m'\u001b[39m][\u001b[39mf\u001b[39m\u001b[39m'\u001b[39m\u001b[39m{\u001b[39;00myear\u001b[39m}\u001b[39;00m\u001b[39m_median_income\u001b[39m\u001b[39m'\u001b[39m] \u001b[39m=\u001b[39m get_medians(\n\u001b[0;32m     <a href='vscode-notebook-cell:/c%3A/Users/kofij/OneDrive/Desktop/nyc-income-main/test.ipynb#ch0000004?line=15'>16</a>\u001b[0m                 zipcode, zip_dfs[year])\u001b[39m.\u001b[39mstrip()\n\u001b[0;32m     <a href='vscode-notebook-cell:/c%3A/Users/kofij/OneDrive/Desktop/nyc-income-main/test.ipynb#ch0000004?line=17'>18</a>\u001b[0m         data[\u001b[39m'\u001b[39m\u001b[39mfeatures\u001b[39m\u001b[39m'\u001b[39m][i][\u001b[39m'\u001b[39m\u001b[39mproperties\u001b[39m\u001b[39m'\u001b[39m][\u001b[39m'\u001b[39m\u001b[39mcurrent_median_income\u001b[39m\u001b[39m'\u001b[39m] \u001b[39m=\u001b[39m data[\u001b[39m'\u001b[39m\u001b[39mfeatures\u001b[39m\u001b[39m'\u001b[39m][i][\u001b[39m'\u001b[39m\u001b[39mproperties\u001b[39m\u001b[39m'\u001b[39m][\u001b[39m'\u001b[39m\u001b[39m2011_median_income\u001b[39m\u001b[39m'\u001b[39m]\n\u001b[1;32m---> <a href='vscode-notebook-cell:/c%3A/Users/kofij/OneDrive/Desktop/nyc-income-main/test.ipynb#ch0000004?line=19'>20</a>\u001b[0m all_income_data\u001b[39m.\u001b[39;49mhead()\n",
      "\u001b[1;31mAttributeError\u001b[0m: 'dict' object has no attribute 'head'"
     ]
    }
   ],
   "source": [
    "# Map Data\n",
    "with open(\"C:/Users/kofij/OneDrive/Desktop/nyc-income-main/data/nyc_zip_codes.json\") as json_file:\n",
    "    data = json.load(json_file)\n",
    "    for i in range(len(data['features'])):\n",
    "        zipcode = data['features'][i]['properties']['postalCode']\n",
    "        for year, df in all_income_data.items():\n",
    "            if int(zipcode) in df['Zip Code'].values:\n",
    "                zip_dfs[year][zipcode] = df.loc[df['Zip Code'].values ==\n",
    "                                                int(zipcode)]\n",
    "            try:\n",
    "                data['features'][i]['properties']['neighborhood'] = zip_codes_neighborhoods[zipcode]\n",
    "            except:\n",
    "                data['features'][i]['properties']['neighborhood'] = \"None\"\n",
    "\n",
    "            data['features'][i]['properties'][f'{year}_median_income'] = get_medians(\n",
    "                zipcode, zip_dfs[year]).strip()\n",
    "\n",
    "        data['features'][i]['properties']['current_median_income'] = data['features'][i]['properties']['2011_median_income']\n",
    "\n",
    "df.head()"
   ]
  },
  {
   "cell_type": "code",
   "execution_count": null,
   "metadata": {},
   "outputs": [],
   "source": [
    "# my dash\n",
    "app.layout = html.Div([\n",
    "    dcc.Graph(id='graph-with-slider'),\n",
    "    dcc.Slider(\n",
    "        df['year'].min(),\n",
    "        df['year'].max(),\n",
    "        step=None,\n",
    "        value=df['year'].min(),\n",
    "        marks={str(year): str(year) for year in df['year'].unique()},\n",
    "        id='year-slider'\n",
    "    )\n",
    "])\n",
    "\n",
    "\n",
    "@app.callback(\n",
    "    Output('graph-with-slider', 'figure'),\n",
    "    Input('year-slider', 'value'))\n",
    "def update_figure(selected_year):\n",
    "    filtered_df = df[df.year == selected_year]\n",
    "    #Map\n",
    "    fig = px.choropleth_mapbox(df, geojson=data, locations='fips', color='unemp',\n",
    "                           color_continuous_scale=\"Viridis\",\n",
    "                           range_color=(0, 12),\n",
    "                           mapbox_style=\"carto-positron\",\n",
    "                           zoom=3, center = {\"lat\": 37.0902, \"lon\": -95.7129},\n",
    "                           opacity=0.5,\n",
    "                           labels={'unemp':'unemployment rate'}\n",
    "                          )\n",
    "    fig.update_layout(margin={\"r\":0,\"t\":0,\"l\":0,\"b\":0})\n",
    "    fig.show()\n",
    "    \n",
    "    #scatterplot\n",
    "    fig = px.scatter(filtered_df, x=\"gdpPercap\", y=\"lifeExp\",\n",
    "                     size=\"pop\", color=\"continent\", hover_name=\"country\",\n",
    "                     log_x=True, size_max=55)\n",
    "\n",
    "    fig.update_layout(transition_duration=500)\n",
    "\n",
    "    return fig\n",
    "\n",
    "\n",
    "\n",
    "\n",
    "\n",
    "if __name__ == '__main__':\n",
    "    app.run_server(debug=True)"
   ]
  }
 ],
 "metadata": {
  "interpreter": {
   "hash": "61deff56f871b5379779f5aa76ab9be89d99207a64cf98edaf8bb9e6a4da7856"
  },
  "kernelspec": {
   "display_name": "Python 3.10.4 64-bit (windows store)",
   "language": "python",
   "name": "python3"
  },
  "language_info": {
   "codemirror_mode": {
    "name": "ipython",
    "version": 3
   },
   "file_extension": ".py",
   "mimetype": "text/x-python",
   "name": "python",
   "nbconvert_exporter": "python",
   "pygments_lexer": "ipython3",
   "version": "3.10.4"
  },
  "orig_nbformat": 4
 },
 "nbformat": 4,
 "nbformat_minor": 2
}
